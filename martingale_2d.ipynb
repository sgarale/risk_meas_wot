{
 "cells": [
  {
   "cell_type": "code",
   "execution_count": null,
   "metadata": {},
   "outputs": [],
   "source": [
    "import math\n",
    "import numpy as np\n",
    "import pandas as pd\n",
    "from scipy.optimize import minimize\n",
    "from scipy.stats import norm\n",
    "import torch\n",
    "import matplotlib.pyplot as plt\n",
    "import distributions as distributions\n",
    "import options as options\n",
    "import nn_utils as nn_ut"
   ]
  },
  {
   "cell_type": "code",
   "execution_count": null,
   "metadata": {},
   "outputs": [],
   "source": [
    "# defining the payoff function\n",
    "K = 1.\n",
    "option = options.MaxCall(K)"
   ]
  },
  {
   "cell_type": "code",
   "execution_count": null,
   "metadata": {},
   "outputs": [],
   "source": [
    "# setting latex style for plots\n",
    "plt.rcParams['text.usetex'] = True"
   ]
  },
  {
   "cell_type": "code",
   "execution_count": null,
   "metadata": {},
   "outputs": [],
   "source": [
    "# plotting the payoff function\n",
    "x_1 = torch.arange(0.75, 1.25, 0.01)\n",
    "x_2 = torch.arange(0.75, 1.25, 0.01)\n",
    "xv, yv = torch.meshgrid(x_1, x_2, indexing='ij')\n",
    "plot_points = torch.stack((xv, yv), dim=2)\n",
    "zg = option.f(plot_points)\n",
    "\n",
    "fig = plt.figure()\n",
    "ax = fig.add_subplot(111, projection='3d')\n",
    "ax.plot_surface(xv, yv, zg, rstride=1, cstride=1, cmap='coolwarm', edgecolor='none')\n",
    "plt.show()"
   ]
  },
  {
   "cell_type": "code",
   "execution_count": null,
   "metadata": {},
   "outputs": [],
   "source": [
    "# defining the reference measure\n",
    "Sigma = torch.tensor([[0.30, 0.], [0.05, 0.20]]) # lower triangular square root of the covariance matrix\n",
    "t = 1.\n",
    "mu = distributions.MultiLogNormal(loc=- 0.5 * t * torch.sum(torch.pow(Sigma, 2), dim=1), scale_tril=math.sqrt(t) * Sigma)\n",
    "\n",
    "samples = mu.sample([100000])\n",
    "plt.scatter(samples.detach().numpy()[:, 0], samples.detach().numpy()[:, 1])\n",
    "plt.scatter(torch.exp(- 0.5 * t * torch.sum(torch.pow(Sigma, 2), dim=1))[0], torch.exp(- 0.5 * t * torch.sum(torch.pow(Sigma, 2), dim=1))[1], color='red')\n",
    "plt.gca().set_aspect('equal')\n",
    "plt.show()"
   ]
  },
  {
   "cell_type": "code",
   "execution_count": null,
   "metadata": {},
   "outputs": [],
   "source": [
    "# cost functional\n",
    "p = 3\n",
    "h = 1. / 12\n",
    "cost = nn_ut.PowerCost(p=p, h=h, case='second order').cost"
   ]
  },
  {
   "cell_type": "code",
   "execution_count": null,
   "metadata": {},
   "outputs": [],
   "source": [
    "### risk measure by neural network approximation\n",
    "\n",
    "# fixing the seed\n",
    "torch.manual_seed(29)\n",
    "\n",
    "# defining the risk measure object\n",
    "width = 20\n",
    "depth = 4\n",
    "sample_size = 100\n",
    "risk_measure = nn_ut.MartRiskMeasureMulti(option.f, cost, mu, torch.nn.ReLU, width, depth, d=2)\n",
    "\n",
    "# otpimizer\n",
    "optim = torch.optim.Adam(risk_measure.parameters(), lr=0.001)\n",
    "\n",
    "# training cycle\n",
    "train_hist = []\n",
    "epochs = 20000\n",
    "for i in range(epochs):\n",
    "    optim.zero_grad()\n",
    "    y = mu.sample([sample_size])\n",
    "    risk = risk_measure(y)\n",
    "    risk.backward()\n",
    "    optim.step()\n",
    "    train_hist.append(- float(risk.detach()))"
   ]
  },
  {
   "cell_type": "code",
   "execution_count": null,
   "metadata": {},
   "outputs": [],
   "source": [
    "# plotting the traning phase\n",
    "roll_window = 200\n",
    "train_roll = pd.Series(train_hist).rolling(roll_window).mean().dropna()\n",
    "\n",
    "final_samples = mu.sample([100000])\n",
    "expected_loss = torch.mean(option.f(final_samples))\n",
    "plt.plot(1 + np.arange(roll_window, epochs + 1), train_roll, label=f'sup')\n",
    "plt.axhline(float(expected_loss), color='green', label='expected payoff')\n",
    "plt.legend()\n",
    "plt.show()"
   ]
  },
  {
   "cell_type": "code",
   "execution_count": null,
   "metadata": {},
   "outputs": [],
   "source": [
    "# results\n",
    "risk_measure.eval()\n",
    "\n",
    "mc_rm = risk_measure(final_samples)\n",
    "print(f\"risk measure mc: {mc_rm:.3e}\")\n",
    "print(f\"mc err: {risk_measure.mc_err:.3e}. Mc interval: [{mc_rm - 2.57 * risk_measure.mc_err:.3e}, {mc_rm + 2.57 * risk_measure.mc_err:.3e}]\")\n",
    "print(f\"Expected value: {expected_loss:.3e}\")"
   ]
  },
  {
   "cell_type": "code",
   "execution_count": null,
   "metadata": {},
   "outputs": [],
   "source": [
    "# contour plots of the loss function and its $C$-transform\n",
    "\n",
    "x_cont = torch.arange(0.5, 1.5, 0.01)\n",
    "y_cont = torch.arange(0.5, 1.5, 0.01)\n",
    "xv, yv = torch.meshgrid(x_cont, y_cont, indexing='ij')\n",
    "cont_points = torch.stack((xv.flatten(),yv.flatten()), dim=1)\n",
    "\n",
    "ccong = risk_measure.ccong(cont_points)\n",
    "orig_func = option.f(cont_points)\n",
    "\n",
    "\n",
    "# First contour plot\n",
    "plt.tricontour(cont_points.detach()[:, 0], cont_points.detach()[:, 1], orig_func.detach().flatten(), cmap='plasma')\n",
    "plt.title('Payoff function')\n",
    "plt.colorbar()\n",
    "plt.tight_layout()\n",
    "plt.show()\n",
    "\n",
    "# Second contour plot\n",
    "plt.tricontour(cont_points.detach()[:, 0], cont_points.detach()[:, 1], ccong.detach().flatten(), cmap='plasma')\n",
    "plt.title('c-transform')\n",
    "plt.colorbar()\n",
    "plt.tight_layout()\n",
    "plt.show()"
   ]
  },
  {
   "cell_type": "code",
   "execution_count": null,
   "metadata": {},
   "outputs": [],
   "source": [
    "# Plot of the C-transform of the loss function\n",
    "\n",
    "fig = plt.figure()\n",
    "ax = fig.add_subplot(111, projection='3d')\n",
    "ax.plot_surface(xv.detach(), yv.detach(), ccong.reshape(xv.shape).detach(), rstride=1, cstride=1, cmap='coolwarm', edgecolor='none')\n",
    "plt.tight_layout()\n",
    "plt.show()"
   ]
  }
 ],
 "metadata": {
  "kernelspec": {
   "display_name": "risk-measures-env",
   "language": "python",
   "name": "python3"
  },
  "language_info": {
   "codemirror_mode": {
    "name": "ipython",
    "version": 3
   },
   "file_extension": ".py",
   "mimetype": "text/x-python",
   "name": "python",
   "nbconvert_exporter": "python",
   "pygments_lexer": "ipython3",
   "version": "3.9.7"
  }
 },
 "nbformat": 4,
 "nbformat_minor": 2
}
