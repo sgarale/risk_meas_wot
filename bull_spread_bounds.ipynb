{
 "cells": [
  {
   "cell_type": "code",
   "execution_count": null,
   "metadata": {},
   "outputs": [],
   "source": [
    "import math\n",
    "import numpy as np\n",
    "import pandas as pd\n",
    "from scipy.optimize import minimize\n",
    "from scipy.stats import norm\n",
    "import torch\n",
    "import matplotlib.pyplot as plt\n",
    "import nn_utils as nn_ut\n",
    "import os\n",
    "import utils as ut"
   ]
  },
  {
   "cell_type": "code",
   "execution_count": null,
   "metadata": {},
   "outputs": [],
   "source": [
    "# setting latex style for plots\n",
    "plt.rcParams['text.usetex'] = True\n",
    "\n",
    "# fixing the seed\n",
    "torch.manual_seed(29)"
   ]
  },
  {
   "cell_type": "code",
   "execution_count": null,
   "metadata": {},
   "outputs": [],
   "source": [
    "# setting the payoff function f\n",
    "\n",
    "K1 = 0.9\n",
    "K2 = 1.2\n",
    "def f(x):\n",
    "    return torch.maximum(x - K1, torch.tensor(0.)) - torch.maximum(x - K2, torch.tensor(0.))\n",
    "\n",
    "plt.plot(torch.arange(0.75,1.25,0.01), f(torch.arange(0.75,1.25,0.01)), label='payoff function')\n",
    "plt.legend()\n",
    "plt.show()"
   ]
  },
  {
   "cell_type": "code",
   "execution_count": null,
   "metadata": {},
   "outputs": [],
   "source": [
    "# defining the reference measure as the marginal of a Black Scholes model and plotting a histogram at initial time\n",
    "sigma = 0.20\n",
    "t = .5\n",
    "mu = torch.distributions.LogNormal(- 0.5 * sigma * sigma * t, sigma * math.sqrt(t))\n",
    "\n",
    "samples = mu.sample([100000])\n",
    "plt.hist(samples.detach().numpy(), 300, label='reference measure')\n",
    "plt.legend()\n",
    "plt.show()"
   ]
  },
  {
   "cell_type": "code",
   "execution_count": null,
   "metadata": {},
   "outputs": [],
   "source": [
    "# analytic black scholes call price\n",
    "def black_scholes_call(x, K, T, vol, rate):\n",
    "    d1 = (np.log(x/K) + (rate + 0.5 * np.power(vol, 2)) * T) / (vol * np.sqrt(T))\n",
    "    d2 = d1 - vol * np.sqrt(T)\n",
    "    return x * norm.cdf(d1) - K * np.exp(- rate * T) * norm.cdf(d2)"
   ]
  },
  {
   "cell_type": "code",
   "execution_count": null,
   "metadata": {},
   "outputs": [],
   "source": [
    "# setting the maturities and the penalty power\n",
    "maturities = np.linspace(0., 3./12, 21)\n",
    "p = 3\n",
    "\n",
    "# initializing the output dataframe\n",
    "df_price = pd.DataFrame(index=t + maturities, columns=None)\n",
    "df_price['Mat'] = t + maturities\n",
    "\n",
    "# computing the black scholes price at each maturity\n",
    "bs_prices = []\n",
    "for i in range(maturities.shape[0]):\n",
    "    call_long_tmp = black_scholes_call(x=1., K=K1, T=t + maturities[i], vol=sigma, rate=0.)\n",
    "    call_short_tmp = black_scholes_call(x=1., K=K2, T=t + maturities[i], vol=sigma, rate=0.)\n",
    "    bull_spread_tmp = call_long_tmp - call_short_tmp\n",
    "    bs_prices.append(bull_spread_tmp)\n",
    "df_price['BS price'] = bs_prices"
   ]
  },
  {
   "cell_type": "code",
   "execution_count": null,
   "metadata": {},
   "outputs": [],
   "source": [
    "# cycling over maturities for the upper bound\n",
    "\n",
    "upper_prices = [bs_prices[0]]\n",
    "mc_err_up = [0]\n",
    "\n",
    "for i in range(1,maturities.shape[0]):\n",
    "    h = maturities[i]\n",
    "\n",
    "    # defining the cost functional\n",
    "    def cost(u):\n",
    "        return h * torch.pow(torch.absolute(u) / math.sqrt(h), p)\n",
    "\n",
    "\n",
    "    # defining the risk measure object\n",
    "    width = 20\n",
    "    depth = 4\n",
    "    sample_size = 500\n",
    "    risk_measure = nn_ut.MartRiskMeasure1d(f, cost, mu, torch.nn.ReLU, width, depth)\n",
    "\n",
    "    # otpimizer\n",
    "    optim = torch.optim.Adam(risk_measure.parameters(), lr=0.001)\n",
    "\n",
    "    # training cycle\n",
    "    epochs = 10000\n",
    "    for i in range(epochs):\n",
    "        optim.zero_grad()\n",
    "        y = mu.sample([sample_size,1])\n",
    "        risk = risk_measure(y)\n",
    "        risk.backward()\n",
    "        optim.step()\n",
    "\n",
    "    risk_measure.eval()\n",
    "\n",
    "    final_samples = mu.sample([100000,1])\n",
    "    mc_rm = -risk_measure(final_samples)\n",
    "    upper_prices.append(mc_rm.detach().numpy())\n",
    "    mc_err = risk_measure.mc_err\n",
    "    mc_err_up.append(mc_err.detach().numpy())\n",
    "\n",
    "# appending the results to the dataframe\n",
    "df_price['upper bound'] = upper_prices\n",
    "df_price['mc err up'] = mc_err_up"
   ]
  },
  {
   "cell_type": "code",
   "execution_count": null,
   "metadata": {},
   "outputs": [],
   "source": [
    "# cycling over maturities for the lower bound\n",
    "\n",
    "lower_prices = [bs_prices[0]]\n",
    "mc_err_down = [0]\n",
    "\n",
    "for i in range(1,maturities.shape[0]):\n",
    "    h = maturities[i]\n",
    "\n",
    "    # defining the cost functional\n",
    "    def cost(u):\n",
    "        return h * torch.pow(torch.absolute(u) / math.sqrt(h), p)\n",
    "\n",
    "    # defining the auxiliary payoff function\n",
    "    def aux_f(x):\n",
    "        return - f(x)\n",
    "\n",
    "    # defining the risk measure object\n",
    "    width = 20\n",
    "    depth = 4\n",
    "    sample_size = 500\n",
    "    risk_measure = nn_ut.MartRiskMeasure1d(aux_f, cost, mu, torch.nn.ReLU, width, depth)\n",
    "\n",
    "    # otpimizer\n",
    "    optim = torch.optim.Adam(risk_measure.parameters(), lr=0.001)\n",
    "\n",
    "    # training cycle\n",
    "    epochs = 10000\n",
    "    for i in range(epochs):\n",
    "        optim.zero_grad()\n",
    "        y = mu.sample([sample_size,1])\n",
    "        risk = risk_measure(y)\n",
    "        risk.backward()\n",
    "        optim.step()\n",
    "\n",
    "    risk_measure.eval()\n",
    "\n",
    "    final_samples = mu.sample([100000,1])\n",
    "    mc_rm = risk_measure(final_samples)\n",
    "    lower_prices.append(mc_rm.detach().numpy())\n",
    "    mc_err = risk_measure.mc_err\n",
    "    mc_err_down.append(mc_err.detach().numpy())\n",
    "\n",
    "# appending the results to the dataframe\n",
    "df_price['lower bound'] = lower_prices\n",
    "df_price['mc err down'] = mc_err_down"
   ]
  },
  {
   "cell_type": "code",
   "execution_count": null,
   "metadata": {},
   "outputs": [],
   "source": [
    "# plotting the results\n",
    "plt.plot(df_price['Mat'], df_price['BS price'], color='green', label=\"Black-Scholes\")\n",
    "plt.plot(df_price['Mat'], df_price['upper bound'], linestyle='--', color='red',label=\"Upper Bound\")\n",
    "plt.plot(df_price['Mat'], df_price['lower bound'], linestyle='-.', color='blue', label=\"Lower Bound\")\n",
    "plt.xlabel('Maturity')\n",
    "plt.ylabel('Fair Value')\n",
    "plt.ylim([0.06,0.17])\n",
    "plt.legend()\n",
    "plt.show()"
   ]
  },
  {
   "cell_type": "code",
   "execution_count": null,
   "metadata": {},
   "outputs": [],
   "source": [
    "# saving the results as excel file\n",
    "folder_out = 'output'\n",
    "ut.check_dir(folder_out)\n",
    "\n",
    "excel_out = os.path.join('output','bull_spread_0.5-0.75-20_500b.xlsx')\n",
    "df_price.to_excel(excel_out)"
   ]
  }
 ],
 "metadata": {
  "kernelspec": {
   "display_name": "risk-measures-env",
   "language": "python",
   "name": "python3"
  },
  "language_info": {
   "codemirror_mode": {
    "name": "ipython",
    "version": 3
   },
   "file_extension": ".py",
   "mimetype": "text/x-python",
   "name": "python",
   "nbconvert_exporter": "python",
   "pygments_lexer": "ipython3",
   "version": "3.9.7"
  }
 },
 "nbformat": 4,
 "nbformat_minor": 2
}
